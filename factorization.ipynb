{
 "cells": [
  {
   "cell_type": "code",
   "execution_count": null,
   "id": "initial_id",
   "metadata": {
    "collapsed": true
   },
   "outputs": [],
   "source": [
    "import random\n",
    "import math\n",
    "import time\n",
    "from collections import deque\n",
    "from tqdm import tqdm"
   ]
  },
  {
   "cell_type": "code",
   "outputs": [],
   "source": [
    "def func(x, h, mod):\n",
    "    return (x ** 2 + h) % mod"
   ],
   "metadata": {
    "collapsed": false
   },
   "id": "fbb9bd7527372195",
   "execution_count": null
  },
  {
   "cell_type": "code",
   "outputs": [],
   "source": [
    "def pollards_rho_algorithm(x: int, c: int, num: int):\n",
    "    print(\"Pollard's rho algorithm\")\n",
    "    print(f\"N: {num}, x: {x}, c: {c}\")\n",
    "    a, b = x, x\n",
    "    i = 0\n",
    "    k = 300000000\n",
    "    stack_size = 5\n",
    "    begin_stack = deque(maxlen = stack_size)\n",
    "    iteration_stack = deque(maxlen = stack_size)\n",
    "    with tqdm(total=k, desc=\"Iterations\", unit=\" iteration\") as pbar:\n",
    "        while i < k:\n",
    "            a = func(a, c, num)\n",
    "            b = func(b, c, num)\n",
    "            b = func(b, c, num)\n",
    "            d = math.gcd(abs(a - b), num)\n",
    "            i += 1\n",
    "            if i <= 5:\n",
    "                begin_stack.append((i, a, b, d))\n",
    "            else:\n",
    "                iteration_stack.append((i, a, b, d))\n",
    "            pbar.update(1)\n",
    "            if d == 1:\n",
    "                continue\n",
    "            elif d == num:\n",
    "                pbar.close()\n",
    "                for step, a_val, b_val, d_val in begin_stack:\n",
    "                    print(f\"Step: {step}, a: {a_val}, b: {b_val}, d: {d_val}\")\n",
    "                for step, a_val, b_val, d_val in iteration_stack:\n",
    "                    print(f\"Step: {step}, a: {a_val}, b: {b_val}, d: {d_val}\")\n",
    "                print(\"Result not found: d = num.\")\n",
    "                return\n",
    "            else:\n",
    "                if math.gcd(num, d) == d:\n",
    "                    pbar.close()\n",
    "                    for step, a_val, b_val, d_val in begin_stack:\n",
    "                        print(f\"Step: {step}, a: {a_val}, b: {b_val}, d: {d_val}\")\n",
    "                    for step, a_val, b_val, d_val in iteration_stack:\n",
    "                        print(f\"Step: {step}, a: {a_val}, b: {b_val}, d: {d_val}\")\n",
    "                    print(f\"Result: {num} = {d} * {num // d}\")\n",
    "                    print(f\"Iterations count: {i}\")\n",
    "                    return\n",
    "    pbar.close()\n",
    "    for step, a_val, b_val, d_val in begin_stack:\n",
    "        print(f\"Step: {step}, a: {a_val}, b: {b_val}, d: {d_val}\")\n",
    "    for step, a_val, b_val, d_val in iteration_stack:\n",
    "        print(f\"Step: {step}, a: {a_val}, b: {b_val}, d: {d_val}\")\n",
    "    print(\"Result not found: max iterations reached.\")"
   ],
   "metadata": {
    "collapsed": false
   },
   "id": "bfa95828532e1414",
   "execution_count": null
  },
  {
   "cell_type": "code",
   "outputs": [],
   "source": [
    "def pollards_rho_minus_one_algorithm(base: list, num: int):\n",
    "    print(\"Pollard's (rho - 1) algorithm\")\n",
    "    a = random.randint(2, num - 2)\n",
    "    d = math.gcd(a, num)\n",
    "    log_num = math.log(num)\n",
    "    if d >= 2:\n",
    "        return d\n",
    "    stack_size = 5\n",
    "    begin_stack = deque(maxlen = stack_size)\n",
    "    iteration_stack = deque(maxlen = stack_size)\n",
    "    i = 0\n",
    "    with tqdm(total=len(base), desc=\"Iterations\", unit=\" iteration\") as pbar:\n",
    "        for b_i in base:\n",
    "            i += 1\n",
    "            l_i = int(log_num // math.log(b_i))\n",
    "            a = pow(a, pow(b_i, l_i), num)\n",
    "            if i <= 5:\n",
    "                begin_stack.append((i, a, l_i))\n",
    "            else:\n",
    "                iteration_stack.append((i, a, l_i))\n",
    "            pbar.update(1)\n",
    "    pbar.close()\n",
    "    d = math.gcd(a - 1, num)\n",
    "    for step, a_val, l_i_val in begin_stack:\n",
    "        print(f\"Step: {step}, a: {a_val}, l: {l_i_val}\")\n",
    "    for step, a_val, l_i_val in iteration_stack:\n",
    "        print(f\"Step: {step}, a: {a_val}, l: {l_i_val}\")\n",
    "    if d == 1:\n",
    "        print(\"Result not found: d = 1.\")\n",
    "        return\n",
    "    elif d == num:\n",
    "        print(\"Result not found: d = num.\")\n",
    "        return\n",
    "    elif 1 < d < num:\n",
    "        if math.gcd(num, d) == d:\n",
    "                print(f\"a: {a}\")\n",
    "                print(f\"Result: {num} = {d} * {num // d}\")\n",
    "                print(f\"Iterations count: {i}\")"
   ],
   "metadata": {
    "collapsed": false
   },
   "id": "52b3aab7e8f2780c",
   "execution_count": null
  },
  {
   "cell_type": "code",
   "outputs": [],
   "source": [
    "with open('input.txt') as file:\n",
    "    num = int(file.readline())"
   ],
   "metadata": {
    "collapsed": false
   },
   "id": "21189152c7c0967",
   "execution_count": null
  },
  {
   "cell_type": "code",
   "outputs": [],
   "source": [
    "base = []\n",
    "with open('base.txt') as file:\n",
    "    for line in file:\n",
    "        base.append(int(line))"
   ],
   "metadata": {
    "collapsed": false
   },
   "id": "9c5e1ad26cfa2340",
   "execution_count": null
  },
  {
   "cell_type": "code",
   "outputs": [],
   "source": [
    "begin_time = time.time()\n",
    "pollards_rho_algorithm(4, 7, num)\n",
    "total_time = time.time() - begin_time\n",
    "print(f\"Algorithm time: {total_time}\")\n",
    "begin_time = time.time()\n",
    "print()\n",
    "pollards_rho_minus_one_algorithm(base, num)\n",
    "total_time = time.time() - begin_time\n",
    "print(f\"Algorithm time: {total_time}\")"
   ],
   "metadata": {
    "collapsed": false
   },
   "id": "397033ba5c7f69ed",
   "execution_count": null
  }
 ],
 "metadata": {
  "kernelspec": {
   "display_name": "Python 3",
   "language": "python",
   "name": "python3"
  },
  "language_info": {
   "codemirror_mode": {
    "name": "ipython",
    "version": 2
   },
   "file_extension": ".py",
   "mimetype": "text/x-python",
   "name": "python",
   "nbconvert_exporter": "python",
   "pygments_lexer": "ipython2",
   "version": "2.7.6"
  }
 },
 "nbformat": 4,
 "nbformat_minor": 5
}

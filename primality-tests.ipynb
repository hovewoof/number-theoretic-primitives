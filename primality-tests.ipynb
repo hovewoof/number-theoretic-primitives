{
 "cells": [
  {
   "cell_type": "code",
   "execution_count": null,
   "id": "initial_id",
   "metadata": {
    "collapsed": true
   },
   "outputs": [],
   "source": [
    "import random"
   ]
  },
  {
   "cell_type": "code",
   "execution_count": null,
   "outputs": [],
   "source": [
    "def truncated_euclid(num1, num2):\n",
    "    g = 1\n",
    "    if num1 < 0 and num2 < 0:\n",
    "        num1, num2 = -num1, -num2\n",
    "        g = -1\n",
    "    if num1 < 0:\n",
    "        num1 = -num1\n",
    "        g = -1\n",
    "    if num2 < 0:\n",
    "        num2 = -num2\n",
    "        g = -1\n",
    "    i = 2\n",
    "    r1, r2, x1, x2 = num1, num2, 1, 0\n",
    "    y1, y2, q1 =  0, 1, 0\n",
    "    while r2 != 0:\n",
    "        q1 = r1 // r2\n",
    "        r1, r2 = r2, r1 % r2\n",
    "        x1, x2 = x2, x1 - q1 * x2\n",
    "        y1, y2 = y2, y1 - q1 * y2\n",
    "        if r2 > r1 / 2: \n",
    "            r2 = r1 - r2\n",
    "            x2, y2 = x1 - x2, y1 - y2\n",
    "        i += 1\n",
    "    if (x1 * num1 + y1 * num2) == r1:\n",
    "        return r1 * g\n",
    "    else:\n",
    "        return 0"
   ],
   "metadata": {
    "collapsed": false
   },
   "id": "2ca39f87c4b5d395"
  },
  {
   "cell_type": "code",
   "execution_count": null,
   "outputs": [],
   "source": [
    "def jacobi(a, n):\n",
    "    g = 1\n",
    "    s = 1\n",
    "    d = truncated_euclid(a, n)\n",
    "    if d != 1: \n",
    "        return 0\n",
    "    while True:\n",
    "        if a == 0:\n",
    "            return 0\n",
    "        if a == 1:\n",
    "            return g\n",
    "        k = 0\n",
    "        while not a & 1:\n",
    "            a = a // 2\n",
    "            k += 1\n",
    "        if k & 1:\n",
    "            if n % 8 == 1 or (n % 8 - 8) == -1:\n",
    "                s = 1\n",
    "            if n % 8 == 3 or (n % 8 - 8) == -3:\n",
    "                s = -1\n",
    "        else:\n",
    "            s = 1\n",
    "        if a == 1:\n",
    "            return g * s\n",
    "        if a % 4 == 3 and n % 4 == 3:\n",
    "            s = -s\n",
    "        a, n = n % a, a\n",
    "        g *= s"
   ],
   "metadata": {
    "collapsed": false
   },
   "id": "844259d84cc1e711"
  },
  {
   "cell_type": "code",
   "execution_count": null,
   "outputs": [],
   "source": [
    "def ferma(num):\n",
    "    if not num & 1: \n",
    "        print(\"Not prime, even\")\n",
    "        return\n",
    "    for k in range(5):\n",
    "        a = random.randint(2, num - 2)\n",
    "        d = truncated_euclid(a, num)\n",
    "        if d != 1: \n",
    "            print(f\"Not prime, GCD({a}, {num}) = {d}\")\n",
    "            continue\n",
    "        else:\n",
    "            res = pow(a, num - 1, num)\n",
    "            if res == 1:\n",
    "                print(f\"Probably prime by base: {a}\")\n",
    "                continue\n",
    "            else:\n",
    "                print(f\"Not prime by base: {a}\")\n",
    "                continue"
   ],
   "metadata": {
    "collapsed": false
   },
   "id": "3388a3b7def1098c"
  },
  {
   "cell_type": "code",
   "execution_count": null,
   "outputs": [],
   "source": [
    "def rabin_miller(num):\n",
    "    decr = num - 1\n",
    "    s = 0\n",
    "    if not num & 1 or num <= 2: \n",
    "        print(\"Not prime, even\")\n",
    "        return\n",
    "    while not (decr & 1):\n",
    "        s += 1\n",
    "        decr = decr >> 1\n",
    "    for k in range(5):\n",
    "        a = random.randint(2, num - 1)\n",
    "        d = truncated_euclid(a, num)\n",
    "        if d != 1: \n",
    "            print(f\"Not prime, GCD({a}, {num}) = {d}\")\n",
    "            continue\n",
    "        res = pow(a, decr, num)\n",
    "        if res == 1:\n",
    "            print(f\"Probably prime by base: {a}, the first condition is satisfied: res = {res}\")\n",
    "            continue\n",
    "        flag = 0\n",
    "        for r in range(s - 1):\n",
    "            res = pow(res, 2, num)\n",
    "            if res == 1: \n",
    "                print(f\"Not prime by base: {a}\")\n",
    "                flag = 1\n",
    "                break\n",
    "            if res == num - 1: \n",
    "                print(f\"Probably prime by base: {a}, the second condition is satisfied: r = {r + 1}\")\n",
    "                flag = 1\n",
    "                break\n",
    "        if flag == 0:\n",
    "            print(f\"Not prime by base: {a}, r doesn't exist\")"
   ],
   "metadata": {
    "collapsed": false
   },
   "id": "f75c0033ffcf6312"
  },
  {
   "cell_type": "code",
   "execution_count": null,
   "outputs": [],
   "source": [
    "def solovay_strassen(num):\n",
    "    if not num & 1 or num <= 2: \n",
    "        print(\"Not prime, even\")\n",
    "        return\n",
    "    for i in range(5):\n",
    "        a = random.randint(2, num - 1)\n",
    "        d = truncated_euclid(a, num)\n",
    "        if d != 1: \n",
    "            print(f\"Not prime, GCD({a}, {num}) = {d}\")\n",
    "            continue\n",
    "        res = pow(a, (num - 1) // 2, num)\n",
    "        if (res % num != 1) and (res % num != num - 1):\n",
    "            print(f\"Not prime by base: {a}, res = {res}\")\n",
    "            continue\n",
    "        symbol_j = jacobi(a, num)\n",
    "        if (symbol_j == res % num) or (res - num == symbol_j):\n",
    "            print(f\"Probably prime by base: {a}, Jacoby symbol = {symbol_j}\")\n",
    "            continue\n",
    "        else:\n",
    "            print(f\"Not prime by base: {a}, Jacoby symbol: {symbol_j}, res = {res}\")\n",
    "            continue"
   ],
   "metadata": {
    "collapsed": false
   },
   "id": "bb219da9c1e782c6"
  },
  {
   "cell_type": "code",
   "execution_count": null,
   "outputs": [],
   "source": [
    "with open('input.txt') as file:\n",
    "    num =  int(file.readline())\n",
    "    if num < 0:\n",
    "        num = -num\n",
    "print(f\"Ferma:\")\n",
    "ferma(num)\n",
    "print(f\"\\nRabin-Miller:\")\n",
    "rabin_miller(num)\n",
    "print(f\"\\nSolovay-Strassen:\")\n",
    "solovay_strassen(num)"
   ],
   "metadata": {
    "collapsed": false
   },
   "id": "febf980e11ededa"
  }
 ],
 "metadata": {
  "kernelspec": {
   "display_name": "Python 3",
   "language": "python",
   "name": "python3"
  },
  "language_info": {
   "codemirror_mode": {
    "name": "ipython",
    "version": 2
   },
   "file_extension": ".py",
   "mimetype": "text/x-python",
   "name": "python",
   "nbconvert_exporter": "python",
   "pygments_lexer": "ipython2",
   "version": "2.7.6"
  }
 },
 "nbformat": 4,
 "nbformat_minor": 5
}
